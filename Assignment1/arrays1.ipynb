{
 "cells": [
  {
   "attachments": {},
   "cell_type": "markdown",
   "metadata": {},
   "source": [
    "<aside>\n",
    "💡 **Q1.** Given an array of integers nums and an integer target, return indices of the two numbers such that they add up to target.\n",
    "\n",
    "You may assume that each input would have exactly one solution, and you may not use the same element twice.\n",
    "\n",
    "You can return the answer in any order.\n",
    "\n",
    "**Example:**\n",
    "Input: nums = [2,7,11,15], target = 9\n",
    "Output0 [0,1]\n",
    "\n",
    "**Explanation:** Because nums[0] + nums[1] == 9, we return [0, 1][\n",
    "\n",
    "</aside>"
   ]
  },
  {
   "cell_type": "code",
   "execution_count": null,
   "metadata": {},
   "outputs": [],
   "source": [
    "nums = [2,7,11,15]\n",
    "target = 17\n",
    "\n",
    "def add_upto_target(nums, target):\n",
    "    temp = None\n",
    "    for index, i in enumerate(nums):\n",
    "        for ind, j in enumerate(nums):\n",
    "            \n",
    "            if temp == None:\n",
    "                temp = i\n",
    "            else:\n",
    "                if target == (i+j):\n",
    "                    return index,ind\n",
    "                \n",
    "                \n",
    "add_upto_target(nums,target)"
   ]
  },
  {
   "attachments": {},
   "cell_type": "markdown",
   "metadata": {},
   "source": [
    "<aside>\n",
    "💡 **Q2.** Given an integer array nums and an integer val, remove all occurrences of val in nums in-place. The order of the elements may be changed. Then return the number of elements in nums which are not equal to val.\n",
    "\n",
    "Consider the number of elements in nums which are not equal to val be k, to get accepted, you need to do the following things:\n",
    "\n",
    "- Change the array nums such that the first k elements of nums contain the elements which are not equal to val. The remaining elements of nums are not important as well as the size of nums.\n",
    "- Return k.\n",
    "\n",
    "**Example :**\n",
    "Input: nums = [3,2,2,3], val = 3\n",
    "Output: 2, nums = [2,2,_*,_*]\n",
    "\n",
    "**Explanation:** Your function should return k = 2, with the first two elements of nums being 2. It does not matter what you leave beyond the returned k (hence they are underscores\n",
    "\n",
    "</aside>"
   ]
  },
  {
   "cell_type": "code",
   "execution_count": null,
   "metadata": {},
   "outputs": [],
   "source": [
    "\n",
    "def get_not_equal_k(nums,val):\n",
    "    l=[x for x in nums if x != val]\n",
    "    for i in range(len(nums)-len(l)):\n",
    "        l.append('*')\n",
    "    return l\n",
    "\n",
    "nums = [3,2,2,3]\n",
    "val = 3\n",
    "\n",
    "get_not_equal_k(nums,val)\n"
   ]
  },
  {
   "attachments": {},
   "cell_type": "markdown",
   "metadata": {},
   "source": [
    "<aside>\n",
    "💡 Given a sorted array of distinct integers and a target value, return the index if the target is found. If not, return the index where it would be if it were inserted in order.\n",
    "\n",
    "You must write an algorithm with O(log n) runtime complexity.\n",
    "\n",
    "**Example 1:**\n",
    "Input: nums = [1,3,5,6], target = 5\n",
    "\n",
    "Output: 2\n",
    "\n",
    "</aside>"
   ]
  },
  {
   "cell_type": "code",
   "execution_count": 44,
   "metadata": {},
   "outputs": [],
   "source": [
    "\n",
    "nums = [1,3,5,6]\n",
    "target = 7\n",
    "\n",
    "def get_index(nums,target) -> int | None:\n",
    "    low = 0\n",
    "    high = len(nums)-1\n",
    "\n",
    "    while low <= high:\n",
    "        \n",
    "        center = low + (high - low) //2\n",
    "\n",
    "        if nums[center] ==target:\n",
    "            return center\n",
    "        elif nums[center] < target:\n",
    "            low = center+1\n",
    "        else:\n",
    "            high = center-1\n",
    "    return low\n"
   ]
  },
  {
   "cell_type": "code",
   "execution_count": 45,
   "metadata": {},
   "outputs": [
    {
     "data": {
      "text/plain": [
       "4"
      ]
     },
     "execution_count": 45,
     "metadata": {},
     "output_type": "execute_result"
    }
   ],
   "source": [
    "get_index(nums,target)"
   ]
  },
  {
   "attachments": {},
   "cell_type": "markdown",
   "metadata": {},
   "source": [
    "<aside>\n",
    "💡 **Q4.** You are given a large integer represented as an integer array digits, where each digits[i] is the ith digit of the integer. The digits are ordered from most significant to least significant in left-to-right order. The large integer does not contain any leading 0's.\n",
    "\n",
    "Increment the large integer by one and return the resulting array of digits.\n",
    "\n",
    "**Example 1:**\n",
    "Input: digits = [1,2,3]\n",
    "Output: [1,2,4]\n",
    "\n",
    "**Explanation:** The array represents the integer 123.\n",
    "\n",
    "Incrementing by one gives 123 + 1 = 124.\n",
    "Thus, the result should be [1,2,4].\n",
    "\n",
    "</aside>"
   ]
  },
  {
   "cell_type": "code",
   "execution_count": 50,
   "metadata": {},
   "outputs": [
    {
     "data": {
      "text/plain": [
       "[1, 3, 0]"
      ]
     },
     "execution_count": 50,
     "metadata": {},
     "output_type": "execute_result"
    }
   ],
   "source": [
    "def plusOne(digits):\n",
    "    digits = [str(x) for x in digits]\n",
    "    num = int(''.join(digits))\n",
    "    return [ int(x) for x in str(num+1)]\n",
    "\n",
    "digits = [1,2,9]\n",
    "\n",
    "plusOne(digits)"
   ]
  },
  {
   "attachments": {},
   "cell_type": "markdown",
   "metadata": {},
   "source": [
    "<aside>\n",
    "💡 **Q5.** You are given two integer arrays nums1 and nums2, sorted in non-decreasing order, and two integers m and n, representing the number of elements in nums1 and nums2 respectively.\n",
    "\n",
    "Merge nums1 and nums2 into a single array sorted in non-decreasing order.\n",
    "\n",
    "The final sorted array should not be returned by the function, but instead be stored inside the array nums1. To accommodate this, nums1 has a length of m + n, where the first m elements denote the elements that should be merged, and the last n elements are set to 0 and should be ignored. nums2 has a length of n.\n",
    "\n",
    "**Example 1:**\n",
    "Input: nums1 = [1,2,3,0,0,0], m = 3, nums2 = [2,5,6], n = 3\n",
    "Output: [1,2,2,3,5,6]\n",
    "\n",
    "**Explanation:** The arrays we are merging are [1,2,3] and [2,5,6].\n",
    "The result of the merge is [1,2,2,3,5,6] with the underlined elements coming from nums1.\n",
    "\n",
    "</aside>"
   ]
  },
  {
   "cell_type": "code",
   "execution_count": 66,
   "metadata": {},
   "outputs": [
    {
     "name": "stdout",
     "output_type": "stream",
     "text": [
      "0\n",
      "1 > 2\n",
      "[1, 2, 3, 0, 0, 0]\n",
      "1\n",
      "2 > 5\n",
      "[1, 2, 3, 0, 0, 0]\n",
      "2\n",
      "3 > 6\n",
      "[1, 2, 3, 0, 0, 0]\n",
      "3\n"
     ]
    },
    {
     "ename": "IndexError",
     "evalue": "list index out of range",
     "output_type": "error",
     "traceback": [
      "\u001b[1;31m---------------------------------------------------------------------------\u001b[0m",
      "\u001b[1;31mIndexError\u001b[0m                                Traceback (most recent call last)",
      "Cell \u001b[1;32mIn[66], line 21\u001b[0m\n\u001b[0;32m     16\u001b[0m         \u001b[39mprint\u001b[39m(nums1)\n\u001b[0;32m     17\u001b[0m         i\u001b[39m+\u001b[39m\u001b[39m=\u001b[39m\u001b[39m1\u001b[39m\n\u001b[1;32m---> 21\u001b[0m merge(nums1,m,nums2,n)\n",
      "Cell \u001b[1;32mIn[66], line 13\u001b[0m, in \u001b[0;36mmerge\u001b[1;34m(nums1, m, nums2, n)\u001b[0m\n\u001b[0;32m     11\u001b[0m \u001b[39mwhile\u001b[39;00m i \u001b[39m<\u001b[39m (m\u001b[39m+\u001b[39mn):\n\u001b[0;32m     12\u001b[0m     \u001b[39mprint\u001b[39m(\u001b[39mstr\u001b[39m(i))            \n\u001b[1;32m---> 13\u001b[0m     \u001b[39mprint\u001b[39m(\u001b[39mstr\u001b[39m(nums1[i])\u001b[39m+\u001b[39m\u001b[39m'\u001b[39m\u001b[39m > \u001b[39m\u001b[39m'\u001b[39m\u001b[39m+\u001b[39m\u001b[39mstr\u001b[39m(nums2[i]))\n\u001b[0;32m     14\u001b[0m     \u001b[39mif\u001b[39;00m nums1[i] \u001b[39m>\u001b[39m nums2[i]:\n\u001b[0;32m     15\u001b[0m         nums1\u001b[39m.\u001b[39minsert(i,nums2[i])\n",
      "\u001b[1;31mIndexError\u001b[0m: list index out of range"
     ]
    }
   ],
   "source": [
    "nums1: list[int] = [1,2,3,0,0,0]\n",
    "m = 3\n",
    "nums2: list[int] = [2,5,6]\n",
    "n = 3\n",
    "\n",
    "def merge(nums1, m, nums2, n) -> None:\n",
    "    \"\"\"\n",
    "    Do not return anything, modify nums1 in-place instead.\n",
    "    \"\"\"\n",
    "    i=0\n",
    "    while i < (m+n):\n",
    "        print(str(i))            \n",
    "        print(str(nums1[i])+' > '+str(nums2[i]))\n",
    "        if nums1[i] > nums2[i]:\n",
    "            nums1.insert(i,nums2[i])\n",
    "        print(nums1)\n",
    "        i+=1\n",
    "            \n",
    "\n",
    "\n",
    "merge(nums1,m,nums2,n)"
   ]
  },
  {
   "attachments": {},
   "cell_type": "markdown",
   "metadata": {},
   "source": [
    "<aside>\n",
    "💡 **Q6.** Given an integer array nums, return true if any value appears at least twice in the array, and return false if every element is distinct.\n",
    "\n",
    "**Example 1:**\n",
    "Input: nums = [1,2,3,1]\n",
    "\n",
    "Output: true\n",
    "\n",
    "</aside>"
   ]
  },
  {
   "cell_type": "code",
   "execution_count": 90,
   "metadata": {},
   "outputs": [
    {
     "data": {
      "text/plain": [
       "True"
      ]
     },
     "execution_count": 90,
     "metadata": {},
     "output_type": "execute_result"
    }
   ],
   "source": [
    "from collections import defaultdict\n",
    "\n",
    "\n",
    "num= [1,2,3,1]\n",
    "\n",
    "def get_duplicate(nums):\n",
    "    d = {}\n",
    "    for i in nums:\n",
    "        if i not in d.keys():\n",
    "            d[i] = 1\n",
    "\n",
    "        elif d[i]==1:\n",
    "            return True\n",
    "\n",
    "get_duplicate(num)\n"
   ]
  },
  {
   "attachments": {},
   "cell_type": "markdown",
   "metadata": {},
   "source": [
    "<aside>\n",
    "💡 **Q7.** Given an integer array nums, move all 0's to the end of it while maintaining the relative order of the nonzero elements.\n",
    "\n",
    "Note that you must do this in-place without making a copy of the array.\n",
    "\n",
    "**Example 1:**\n",
    "Input: nums = [0,1,0,3,12]\n",
    "Output: [1,3,12,0,0]\n",
    "\n",
    "</aside>"
   ]
  },
  {
   "attachments": {},
   "cell_type": "markdown",
   "metadata": {},
   "source": [
    "count = 0 \n",
    "     index = 0 , val = 0   [0,0,1]    nums[index-count] == 0 ? yes --> nums.pop(index-count)  count +=1  [0,1]    --> [0,1,0]\n",
    "\n",
    "     index = 1 , val = 1   [0,1,0]   nums[index-count] == 0 ? yes -->  nums.pop(index-count)  count+=1  [1,0]    --> [1,0,0]\n",
    "\n",
    "     index = 2 , val = 1   [0,1,0]   nums[index-count] == 0 ? no  --> pass\n",
    "     \n",
    "     "
   ]
  },
  {
   "cell_type": "code",
   "execution_count": 9,
   "metadata": {},
   "outputs": [
    {
     "data": {
      "text/plain": [
       "[1, 0, 0]"
      ]
     },
     "execution_count": 9,
     "metadata": {},
     "output_type": "execute_result"
    }
   ],
   "source": [
    "nums = [0,0,1]\n",
    "\n",
    "\n",
    "def push_zeros(nums):\n",
    "    count = 0\n",
    "    for ind, i  in enumerate(nums):  \n",
    "        if nums[ind-count] == 0:\n",
    "            zero = nums.pop(ind-count)\n",
    "            nums.append(zero)\n",
    "            count +=1\n",
    "    return nums\n",
    "\n",
    "push_zeros(nums)"
   ]
  },
  {
   "attachments": {},
   "cell_type": "markdown",
   "metadata": {},
   "source": [
    "<aside>\n",
    "💡 **Q8.** You have a set of integers s, which originally contains all the numbers from 1 to n. Unfortunately, due to some error, one of the numbers in s got duplicated to another number in the set, which results in repetition of one number and loss of another number.\n",
    "\n",
    "You are given an integer array nums representing the data status of this set after the error.\n",
    "\n",
    "Find the number that occurs twice and the number that is missing and return them in the form of an array.\n",
    "\n",
    "**Example 1:**\n",
    "Input: nums = [1,2,2,4]\n",
    "Output: [2,3]\n",
    "\n",
    "</aside>"
   ]
  },
  {
   "cell_type": "code",
   "execution_count": 89,
   "metadata": {},
   "outputs": [
    {
     "data": {
      "text/plain": [
       "[2, 3]"
      ]
     },
     "execution_count": 89,
     "metadata": {},
     "output_type": "execute_result"
    }
   ],
   "source": [
    "def missing_repeat(nums):\n",
    "    nums = sorted(nums)\n",
    "    s = set()\n",
    "    repeat = None\n",
    "    for ind, i in enumerate(nums,1):\n",
    "        if i not in s:\n",
    "            s.add(i)\n",
    "        else:\n",
    "            repeat = i\n",
    "    return [repeat, abs(sum((x+1 for x in range(len(nums)))) - sum(s)) ]\n",
    "\n",
    "\n",
    "nums = [1,2,2,4]\n",
    "\n",
    "\n",
    "missing_repeat(nums)"
   ]
  },
  {
   "cell_type": "code",
   "execution_count": 104,
   "metadata": {},
   "outputs": [
    {
     "name": "stdout",
     "output_type": "stream",
     "text": [
      "* \n",
      "* * \n",
      "* * * \n",
      "* * * * \n",
      "* * * * * \n"
     ]
    }
   ],
   "source": [
    "for i in range(5):\n",
    "    for j in range(i+1):\n",
    "        print('*', end=' ')\n",
    "    print()\n"
   ]
  },
  {
   "cell_type": "code",
   "execution_count": 117,
   "metadata": {},
   "outputs": [
    {
     "name": "stdout",
     "output_type": "stream",
     "text": [
      "1 \n",
      "2 2 \n",
      "3 3 3 \n",
      "4 4 4 4 \n",
      "5 5 5 5 5 \n"
     ]
    }
   ],
   "source": [
    "count = 1\n",
    "while count<=5:\n",
    "    for i in range(count):\n",
    "        print(count, end=' ')\n",
    "    print()\n",
    "    count+=1\n"
   ]
  },
  {
   "cell_type": "code",
   "execution_count": 122,
   "metadata": {},
   "outputs": [],
   "source": [
    "text = ''\n",
    "\n",
    "while text !='quit' or 'q':\n",
    "    text = input('Enter a word ( or quit/q to exit ')\n",
    "    print(text)"
   ]
  },
  {
   "cell_type": "code",
   "execution_count": 84,
   "metadata": {},
   "outputs": [
    {
     "name": "stdout",
     "output_type": "stream",
     "text": [
      "{1, 2, 4}\n"
     ]
    }
   ],
   "source": [
    "l =[1,2,2,4]\n",
    "print(set(l))"
   ]
  },
  {
   "cell_type": "code",
   "execution_count": null,
   "metadata": {},
   "outputs": [],
   "source": []
  }
 ],
 "metadata": {
  "kernelspec": {
   "display_name": "venv",
   "language": "python",
   "name": "python3"
  },
  "language_info": {
   "codemirror_mode": {
    "name": "ipython",
    "version": 3
   },
   "file_extension": ".py",
   "mimetype": "text/x-python",
   "name": "python",
   "nbconvert_exporter": "python",
   "pygments_lexer": "ipython3",
   "version": "3.11.3"
  },
  "orig_nbformat": 4
 },
 "nbformat": 4,
 "nbformat_minor": 2
}
